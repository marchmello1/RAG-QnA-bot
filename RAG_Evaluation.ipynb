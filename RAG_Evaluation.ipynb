{
  "nbformat": 4,
  "nbformat_minor": 0,
  "metadata": {
    "colab": {
      "provenance": []
    },
    "kernelspec": {
      "name": "python3",
      "display_name": "Python 3"
    },
    "language_info": {
      "name": "python"
    },
    "widgets": {
      "application/vnd.jupyter.widget-state+json": {
        "65eae2efbc684142b9c7d6e226724ab9": {
          "model_module": "@jupyter-widgets/controls",
          "model_name": "HBoxModel",
          "model_module_version": "1.5.0",
          "state": {
            "_dom_classes": [],
            "_model_module": "@jupyter-widgets/controls",
            "_model_module_version": "1.5.0",
            "_model_name": "HBoxModel",
            "_view_count": null,
            "_view_module": "@jupyter-widgets/controls",
            "_view_module_version": "1.5.0",
            "_view_name": "HBoxView",
            "box_style": "",
            "children": [
              "IPY_MODEL_c3c1cc501d4c40e8b5cafe3b0a9b9511",
              "IPY_MODEL_91e902a10fa745ccb9bbc67ec55bd5e7",
              "IPY_MODEL_578741510344480182fc6f0256611721"
            ],
            "layout": "IPY_MODEL_9e3a7e4a354f49e28730de97c5a237ed"
          }
        },
        "c3c1cc501d4c40e8b5cafe3b0a9b9511": {
          "model_module": "@jupyter-widgets/controls",
          "model_name": "HTMLModel",
          "model_module_version": "1.5.0",
          "state": {
            "_dom_classes": [],
            "_model_module": "@jupyter-widgets/controls",
            "_model_module_version": "1.5.0",
            "_model_name": "HTMLModel",
            "_view_count": null,
            "_view_module": "@jupyter-widgets/controls",
            "_view_module_version": "1.5.0",
            "_view_name": "HTMLView",
            "description": "",
            "description_tooltip": null,
            "layout": "IPY_MODEL_067eba9130294aa882202796ef12faee",
            "placeholder": "​",
            "style": "IPY_MODEL_7884d89f461a46e9b571adf8f318f4fc",
            "value": "Evaluating: 100%"
          }
        },
        "91e902a10fa745ccb9bbc67ec55bd5e7": {
          "model_module": "@jupyter-widgets/controls",
          "model_name": "FloatProgressModel",
          "model_module_version": "1.5.0",
          "state": {
            "_dom_classes": [],
            "_model_module": "@jupyter-widgets/controls",
            "_model_module_version": "1.5.0",
            "_model_name": "FloatProgressModel",
            "_view_count": null,
            "_view_module": "@jupyter-widgets/controls",
            "_view_module_version": "1.5.0",
            "_view_name": "ProgressView",
            "bar_style": "success",
            "description": "",
            "description_tooltip": null,
            "layout": "IPY_MODEL_8945da9d64e54a0c9b7c7ce5d75c9493",
            "max": 28,
            "min": 0,
            "orientation": "horizontal",
            "style": "IPY_MODEL_de5e01539029411d9337f0bd81260a5b",
            "value": 28
          }
        },
        "578741510344480182fc6f0256611721": {
          "model_module": "@jupyter-widgets/controls",
          "model_name": "HTMLModel",
          "model_module_version": "1.5.0",
          "state": {
            "_dom_classes": [],
            "_model_module": "@jupyter-widgets/controls",
            "_model_module_version": "1.5.0",
            "_model_name": "HTMLModel",
            "_view_count": null,
            "_view_module": "@jupyter-widgets/controls",
            "_view_module_version": "1.5.0",
            "_view_name": "HTMLView",
            "description": "",
            "description_tooltip": null,
            "layout": "IPY_MODEL_ecc9d5ee03034cb2a8b227bf6e0d95df",
            "placeholder": "​",
            "style": "IPY_MODEL_b1cd6a5b8ca14357a74758b7f31d08d1",
            "value": " 28/28 [00:26&lt;00:00,  2.89s/it]"
          }
        },
        "9e3a7e4a354f49e28730de97c5a237ed": {
          "model_module": "@jupyter-widgets/base",
          "model_name": "LayoutModel",
          "model_module_version": "1.2.0",
          "state": {
            "_model_module": "@jupyter-widgets/base",
            "_model_module_version": "1.2.0",
            "_model_name": "LayoutModel",
            "_view_count": null,
            "_view_module": "@jupyter-widgets/base",
            "_view_module_version": "1.2.0",
            "_view_name": "LayoutView",
            "align_content": null,
            "align_items": null,
            "align_self": null,
            "border": null,
            "bottom": null,
            "display": null,
            "flex": null,
            "flex_flow": null,
            "grid_area": null,
            "grid_auto_columns": null,
            "grid_auto_flow": null,
            "grid_auto_rows": null,
            "grid_column": null,
            "grid_gap": null,
            "grid_row": null,
            "grid_template_areas": null,
            "grid_template_columns": null,
            "grid_template_rows": null,
            "height": null,
            "justify_content": null,
            "justify_items": null,
            "left": null,
            "margin": null,
            "max_height": null,
            "max_width": null,
            "min_height": null,
            "min_width": null,
            "object_fit": null,
            "object_position": null,
            "order": null,
            "overflow": null,
            "overflow_x": null,
            "overflow_y": null,
            "padding": null,
            "right": null,
            "top": null,
            "visibility": null,
            "width": null
          }
        },
        "067eba9130294aa882202796ef12faee": {
          "model_module": "@jupyter-widgets/base",
          "model_name": "LayoutModel",
          "model_module_version": "1.2.0",
          "state": {
            "_model_module": "@jupyter-widgets/base",
            "_model_module_version": "1.2.0",
            "_model_name": "LayoutModel",
            "_view_count": null,
            "_view_module": "@jupyter-widgets/base",
            "_view_module_version": "1.2.0",
            "_view_name": "LayoutView",
            "align_content": null,
            "align_items": null,
            "align_self": null,
            "border": null,
            "bottom": null,
            "display": null,
            "flex": null,
            "flex_flow": null,
            "grid_area": null,
            "grid_auto_columns": null,
            "grid_auto_flow": null,
            "grid_auto_rows": null,
            "grid_column": null,
            "grid_gap": null,
            "grid_row": null,
            "grid_template_areas": null,
            "grid_template_columns": null,
            "grid_template_rows": null,
            "height": null,
            "justify_content": null,
            "justify_items": null,
            "left": null,
            "margin": null,
            "max_height": null,
            "max_width": null,
            "min_height": null,
            "min_width": null,
            "object_fit": null,
            "object_position": null,
            "order": null,
            "overflow": null,
            "overflow_x": null,
            "overflow_y": null,
            "padding": null,
            "right": null,
            "top": null,
            "visibility": null,
            "width": null
          }
        },
        "7884d89f461a46e9b571adf8f318f4fc": {
          "model_module": "@jupyter-widgets/controls",
          "model_name": "DescriptionStyleModel",
          "model_module_version": "1.5.0",
          "state": {
            "_model_module": "@jupyter-widgets/controls",
            "_model_module_version": "1.5.0",
            "_model_name": "DescriptionStyleModel",
            "_view_count": null,
            "_view_module": "@jupyter-widgets/base",
            "_view_module_version": "1.2.0",
            "_view_name": "StyleView",
            "description_width": ""
          }
        },
        "8945da9d64e54a0c9b7c7ce5d75c9493": {
          "model_module": "@jupyter-widgets/base",
          "model_name": "LayoutModel",
          "model_module_version": "1.2.0",
          "state": {
            "_model_module": "@jupyter-widgets/base",
            "_model_module_version": "1.2.0",
            "_model_name": "LayoutModel",
            "_view_count": null,
            "_view_module": "@jupyter-widgets/base",
            "_view_module_version": "1.2.0",
            "_view_name": "LayoutView",
            "align_content": null,
            "align_items": null,
            "align_self": null,
            "border": null,
            "bottom": null,
            "display": null,
            "flex": null,
            "flex_flow": null,
            "grid_area": null,
            "grid_auto_columns": null,
            "grid_auto_flow": null,
            "grid_auto_rows": null,
            "grid_column": null,
            "grid_gap": null,
            "grid_row": null,
            "grid_template_areas": null,
            "grid_template_columns": null,
            "grid_template_rows": null,
            "height": null,
            "justify_content": null,
            "justify_items": null,
            "left": null,
            "margin": null,
            "max_height": null,
            "max_width": null,
            "min_height": null,
            "min_width": null,
            "object_fit": null,
            "object_position": null,
            "order": null,
            "overflow": null,
            "overflow_x": null,
            "overflow_y": null,
            "padding": null,
            "right": null,
            "top": null,
            "visibility": null,
            "width": null
          }
        },
        "de5e01539029411d9337f0bd81260a5b": {
          "model_module": "@jupyter-widgets/controls",
          "model_name": "ProgressStyleModel",
          "model_module_version": "1.5.0",
          "state": {
            "_model_module": "@jupyter-widgets/controls",
            "_model_module_version": "1.5.0",
            "_model_name": "ProgressStyleModel",
            "_view_count": null,
            "_view_module": "@jupyter-widgets/base",
            "_view_module_version": "1.2.0",
            "_view_name": "StyleView",
            "bar_color": null,
            "description_width": ""
          }
        },
        "ecc9d5ee03034cb2a8b227bf6e0d95df": {
          "model_module": "@jupyter-widgets/base",
          "model_name": "LayoutModel",
          "model_module_version": "1.2.0",
          "state": {
            "_model_module": "@jupyter-widgets/base",
            "_model_module_version": "1.2.0",
            "_model_name": "LayoutModel",
            "_view_count": null,
            "_view_module": "@jupyter-widgets/base",
            "_view_module_version": "1.2.0",
            "_view_name": "LayoutView",
            "align_content": null,
            "align_items": null,
            "align_self": null,
            "border": null,
            "bottom": null,
            "display": null,
            "flex": null,
            "flex_flow": null,
            "grid_area": null,
            "grid_auto_columns": null,
            "grid_auto_flow": null,
            "grid_auto_rows": null,
            "grid_column": null,
            "grid_gap": null,
            "grid_row": null,
            "grid_template_areas": null,
            "grid_template_columns": null,
            "grid_template_rows": null,
            "height": null,
            "justify_content": null,
            "justify_items": null,
            "left": null,
            "margin": null,
            "max_height": null,
            "max_width": null,
            "min_height": null,
            "min_width": null,
            "object_fit": null,
            "object_position": null,
            "order": null,
            "overflow": null,
            "overflow_x": null,
            "overflow_y": null,
            "padding": null,
            "right": null,
            "top": null,
            "visibility": null,
            "width": null
          }
        },
        "b1cd6a5b8ca14357a74758b7f31d08d1": {
          "model_module": "@jupyter-widgets/controls",
          "model_name": "DescriptionStyleModel",
          "model_module_version": "1.5.0",
          "state": {
            "_model_module": "@jupyter-widgets/controls",
            "_model_module_version": "1.5.0",
            "_model_name": "DescriptionStyleModel",
            "_view_count": null,
            "_view_module": "@jupyter-widgets/base",
            "_view_module_version": "1.2.0",
            "_view_name": "StyleView",
            "description_width": ""
          }
        }
      }
    }
  },
  "cells": [
    {
      "cell_type": "markdown",
      "source": [
        "#Installation and Dependencies"
      ],
      "metadata": {
        "id": "M2dMb4IftimS"
      }
    },
    {
      "cell_type": "code",
      "source": [
        "! pip install -qU langchain openai datasets PyPDF2 langchain-core faiss-gpu python-dotenv==1.0.0 langchain_community sentence-transformers ragas"
      ],
      "metadata": {
        "id": "uK-Z4-Zmg3sT"
      },
      "execution_count": null,
      "outputs": []
    },
    {
      "cell_type": "code",
      "execution_count": null,
      "metadata": {
        "id": "KGU029Iogs9K"
      },
      "outputs": [],
      "source": [
        "import os\n",
        "import time\n",
        "from PyPDF2 import PdfReader\n",
        "from langchain.text_splitter import CharacterTextSplitter\n",
        "from langchain.embeddings import HuggingFaceEmbeddings\n",
        "from langchain.vectorstores import faiss\n",
        "from langchain.prompts import ChatPromptTemplate\n",
        "from langchain.chat_models import ChatOpenAI\n",
        "from langchain.schema.runnable import RunnablePassthrough\n",
        "from langchain.schema.output_parser import StrOutputParser\n",
        "from datasets import Dataset, Features, Sequence, Value\n",
        "from ragas import evaluate\n",
        "from ragas.metrics import Faithfulness, AnswerRelevancy, ContextRecall, ContextPrecision\n",
        "from openai import OpenAIError, RateLimitError\n",
        "import pandas as pd\n",
        "from ragas import evaluate\n",
        "from ragas.metrics import (\n",
        "    faithfulness,\n",
        "    answer_relevancy,\n",
        "    context_recall,\n",
        "    context_precision,\n",
        ")\n"
      ]
    },
    {
      "cell_type": "markdown",
      "source": [
        "#Chunking and Storing text into Vector Store"
      ],
      "metadata": {
        "id": "0JuPk7eXtp0J"
      }
    },
    {
      "cell_type": "code",
      "source": [
        "def get_pdf_text(docs):\n",
        "    text = \"\"\n",
        "    for pdf in docs:\n",
        "        pdf_reader = PdfReader(pdf)\n",
        "        for page in pdf_reader.pages:\n",
        "            text += page.extract_text()\n",
        "            text += \"\\n\"\n",
        "    return text\n",
        "\n",
        "def get_chunks(raw_text):\n",
        "    text_splitter = CharacterTextSplitter(separator=\"\\n\", chunk_size=1000, chunk_overlap=200, length_function=len)\n",
        "    chunks = text_splitter.split_text(raw_text)\n",
        "    return chunks\n",
        "\n",
        "\n",
        "def get_vectorstore(chunks):\n",
        "    embeddings = HuggingFaceEmbeddings(model_name=\"sentence-transformers/all-MiniLM-L6-v2\", model_kwargs={'device': 'cpu'})\n",
        "    vectorstore = faiss.FAISS.from_texts(texts=chunks, embedding=embeddings)\n",
        "    return vectorstore"
      ],
      "metadata": {
        "id": "443KGhbcL0nd"
      },
      "execution_count": null,
      "outputs": []
    },
    {
      "cell_type": "markdown",
      "source": [
        "#Generating Questions and Groud Truth"
      ],
      "metadata": {
        "id": "WiqX0-nXt1Zw"
      }
    },
    {
      "cell_type": "code",
      "source": [
        "OPENAI_API_KEY = ''\n",
        "os.environ['OPENAI_API_KEY'] = OPENAI_API_KEY\n",
        "llm = ChatOpenAI(api_key=OPENAI_API_KEY, model=\"gpt-3.5-turbo\")\n",
        "\n",
        "\n",
        "template = \"\"\"You are an assistant for question-answering tasks.\n",
        "Use the following pieces of retrieved context to answer the question.\n",
        "If you don't know the answer, just say that you don't know.\n",
        "Use two sentences maximum and keep the answer concise.\n",
        "Question: {question}\n",
        "Context: {context}\n",
        "Answer:\n",
        "\"\"\"\n",
        "prompt = ChatPromptTemplate.from_template(template)\n",
        "\n",
        "\n",
        "def setup_chain(retriever):\n",
        "    def retriever_func(inputs):\n",
        "        question = inputs['question']\n",
        "        results = retriever.get_relevant_documents(question)\n",
        "        context = [result.page_content for result in results]\n",
        "        return {\"question\": question, \"context\": context}\n",
        "\n",
        "    chain = (\n",
        "        {\"question\": RunnablePassthrough(), \"context\": retriever_func}\n",
        "        | prompt\n",
        "        | llm\n",
        "        | StrOutputParser()\n",
        "    )\n",
        "    return chain\n",
        "def handle_question(question, retriever, max_retries=5, delay=5):\n",
        "    retries = 0\n",
        "    while retries < max_retries:\n",
        "        try:\n",
        "            chain = setup_chain(retriever)\n",
        "            response = chain.invoke({\"question\": question})\n",
        "            return response\n",
        "        except RateLimitError as e:\n",
        "            retries += 1\n",
        "            print(f\"Rate limit error: {e}. Retrying in {delay} seconds...\")\n",
        "            time.sleep(delay)\n",
        "            delay *= 2  # Exponential backoff\n",
        "    raise Exception(\"Max retries exceeded for OpenAI API rate limit\")\n",
        "\n",
        "\n",
        "def handle_question_with_retry(question, retriever, retries=5, backoff_factor=2):\n",
        "    for attempt in range(retries):\n",
        "        try:\n",
        "            response = handle_question(question, retriever)\n",
        "            return response\n",
        "        except OpenAIError as e:\n",
        "            if \"rate_limit_exceeded\" in str(e):\n",
        "                wait_time = backoff_factor ** attempt\n",
        "                print(f\"Rate limit exceeded. Retrying in {wait_time} seconds...\")\n",
        "                time.sleep(wait_time)\n",
        "            else:\n",
        "                raise e\n",
        "    raise Exception(f\"Failed after {retries} retries due to rate limit issues\")"
      ],
      "metadata": {
        "id": "7LnN-KU2LtPI",
        "colab": {
          "base_uri": "https://localhost:8080/"
        },
        "outputId": "4d6f3c23-42e3-40c1-dd52-8067850ec49b"
      },
      "execution_count": null,
      "outputs": [
        {
          "output_type": "stream",
          "name": "stderr",
          "text": [
            "/usr/local/lib/python3.10/dist-packages/langchain_core/_api/deprecation.py:119: LangChainDeprecationWarning: The class `ChatOpenAI` was deprecated in LangChain 0.0.10 and will be removed in 0.3.0. An updated version of the class exists in the langchain-openai package and should be used instead. To use it run `pip install -U langchain-openai` and import as `from langchain_openai import ChatOpenAI`.\n",
            "  warn_deprecated(\n"
          ]
        }
      ]
    },
    {
      "cell_type": "code",
      "source": [
        "    questions = [\n",
        "        \"What does Section 3: Courtesy car cover?\",\n",
        "        \"What does Section 4: Accidental damage cover?\",\n",
        "        \"What does Section 5: Windscreen damage cover?\",\n",
        "        \"What does Section 6: Personal benefits cover?\",\n",
        "        \"Who is covered under Motor Legal Cover?\",\n",
        "        \"How does Guaranteed Hire Car Plus work?\",\n",
        "        \"How can I make a complaint?\"\n",
        "    ]\n",
        "\n",
        "    ground_truths = [\n",
        "        [\"Section 3: Courtesy car covers providing a courtesy car while your car is being repaired after an accident, fire, or theft.\"],\n",
        "        [\"Section 4: Accidental damage covers damage to your car caused by an accident.\"],\n",
        "        [\"Section 5: Windscreen damage covers repair or replacement of your car's windscreen.\"],\n",
        "        [\"Section 6: Personal benefits cover includes personal accident benefits, medical expenses, and personal belongings.\"],\n",
        "        [\"Motor Legal Cover includes the policyholder, named drivers, the registered keeper of the car, and passengers for motoring offense or road traffic accident cases.\"],\n",
        "        [\"Guaranteed Hire Car Plus provides you with a hire car of a similar size to yours while your car is being repaired, written off, or stolen.\"],\n",
        "        [\"To make a complaint, call 0800 051 0198 or write to Customer Relations Manager, Churchill Court, Westmoreland Road, Bromley BR1 1DP.\"]\n",
        "\n",
        "    ]"
      ],
      "metadata": {
        "id": "rCtR1f_9MMN4"
      },
      "execution_count": null,
      "outputs": []
    },
    {
      "cell_type": "markdown",
      "source": [
        "#Evaluation with RAGAS"
      ],
      "metadata": {
        "id": "gzvydRL4uAV6"
      }
    },
    {
      "cell_type": "code",
      "source": [
        "if __name__ == \"__main__\":\n",
        "\n",
        "    docs = [\"/content/policy-booklet-0923.pdf\"]\n",
        "    raw_text = get_pdf_text(docs)\n",
        "    text_chunks = get_chunks(raw_text)\n",
        "    vectorstore = get_vectorstore(text_chunks)\n",
        "    retriever = vectorstore.as_retriever()\n",
        "\n",
        "    answers = []\n",
        "    contexts = []\n",
        "\n",
        "    for question in questions:\n",
        "        response = handle_question_with_retry(question, retriever)\n",
        "        answers.append(response)\n",
        "        contexts.append([doc.page_content for doc in retriever.get_relevant_documents(question)])\n",
        "\n",
        "    features = Features({\n",
        "        \"question\": Value(\"string\"),\n",
        "        \"answer\": Value(\"string\"),\n",
        "        \"ground_truth\": Value(\"string\"),\n",
        "        \"contexts\": Sequence(Value(\"string\"))\n",
        "    })\n",
        "\n",
        "    dataset = Dataset.from_dict({\"question\": questions, \"answer\": answers, \"ground_truth\": ground_truths, \"contexts\": contexts}, features=features)\n",
        "\n",
        "\n",
        "    result = evaluate(\n",
        "        dataset=dataset,\n",
        "        metrics=[\n",
        "            context_precision,\n",
        "            context_recall,\n",
        "            faithfulness,\n",
        "            answer_relevancy,\n",
        "        ],\n",
        "    )\n",
        "\n",
        "    df = result.to_pandas()\n",
        "    print(df)\n",
        "\n",
        "\n",
        "    output_csv_path = \"/content/evaluation_results.csv\"\n",
        "    df.to_csv(output_csv_path, index=False)\n",
        "    print(f\"Evaluation results saved to {output_csv_path}\")"
      ],
      "metadata": {
        "id": "fRtk-dorMR6x",
        "colab": {
          "base_uri": "https://localhost:8080/",
          "height": 902,
          "referenced_widgets": [
            "65eae2efbc684142b9c7d6e226724ab9",
            "c3c1cc501d4c40e8b5cafe3b0a9b9511",
            "91e902a10fa745ccb9bbc67ec55bd5e7",
            "578741510344480182fc6f0256611721",
            "9e3a7e4a354f49e28730de97c5a237ed",
            "067eba9130294aa882202796ef12faee",
            "7884d89f461a46e9b571adf8f318f4fc",
            "8945da9d64e54a0c9b7c7ce5d75c9493",
            "de5e01539029411d9337f0bd81260a5b",
            "ecc9d5ee03034cb2a8b227bf6e0d95df",
            "b1cd6a5b8ca14357a74758b7f31d08d1"
          ]
        },
        "outputId": "9b4087fd-e8e2-458d-a43a-0c05c509c277"
      },
      "execution_count": null,
      "outputs": [
        {
          "output_type": "stream",
          "name": "stderr",
          "text": [
            "WARNING:langchain_text_splitters.base:Created a chunk of size 1076, which is longer than the specified 1000\n",
            "/usr/local/lib/python3.10/dist-packages/huggingface_hub/file_download.py:1132: FutureWarning: `resume_download` is deprecated and will be removed in version 1.0.0. Downloads always resume when possible. If you want to force a new download, use `force_download=True`.\n",
            "  warnings.warn(\n"
          ]
        },
        {
          "output_type": "display_data",
          "data": {
            "text/plain": [
              "Evaluating:   0%|          | 0/28 [00:00<?, ?it/s]"
            ],
            "application/vnd.jupyter.widget-view+json": {
              "version_major": 2,
              "version_minor": 0,
              "model_id": "65eae2efbc684142b9c7d6e226724ab9"
            }
          },
          "metadata": {}
        },
        {
          "output_type": "stream",
          "name": "stdout",
          "text": [
            "                                        question  \\\n",
            "0       What does Section 3: Courtesy car cover?   \n",
            "1  What does Section 4: Accidental damage cover?   \n",
            "2  What does Section 5: Windscreen damage cover?   \n",
            "3  What does Section 6: Personal benefits cover?   \n",
            "4        Who is covered under Motor Legal Cover?   \n",
            "5        How does Guaranteed Hire Car Plus work?   \n",
            "6                    How can I make a complaint?   \n",
            "\n",
            "                                              answer  \\\n",
            "0  Section 3: Courtesy car cover provides a small...   \n",
            "1  Section 4: Accidental Damage cover includes da...   \n",
            "2  Section 5: Windscreen damage covers the replac...   \n",
            "3  Section 6: Personal benefits cover the additio...   \n",
            "4  The policyholder, named drivers, registered ke...   \n",
            "5  Guaranteed Hire Car Plus provides you with a s...   \n",
            "6  To make a complaint, you can call the provided...   \n",
            "\n",
            "                                        ground_truth  \\\n",
            "0  ['Section 3: Courtesy car covers providing a c...   \n",
            "1  ['Section 4: Accidental damage covers damage t...   \n",
            "2  [\"Section 5: Windscreen damage covers repair o...   \n",
            "3  ['Section 6: Personal benefits cover includes ...   \n",
            "4  ['Motor Legal Cover includes the policyholder,...   \n",
            "5  ['Guaranteed Hire Car Plus provides you with a...   \n",
            "6  ['To make a complaint, call 0800 051 0198 or w...   \n",
            "\n",
            "                                            contexts  context_precision  \\\n",
            "0  [Third Party, Fire and Theft\\nThis cover is in...           1.000000   \n",
            "1  [damaged in-car entertainment equipment that \\...           1.000000   \n",
            "2  [Windscreen damage\\nWe’ll help put things righ...           1.000000   \n",
            "3  [We’ll provide cover up to the amounts shown i...           1.000000   \n",
            "4  [>Their responsibilities to report to us.Secti...           1.000000   \n",
            "5  [Words with a specific meaning \\nWhen we use t...           1.000000   \n",
            "6  [Page 42If you have a complaint\\nHow we can he...           0.916667   \n",
            "\n",
            "   context_recall  faithfulness  answer_relevancy  \n",
            "0             1.0           1.0          0.912916  \n",
            "1             1.0           1.0          0.987267  \n",
            "2             1.0           0.5          0.957850  \n",
            "3             0.0           0.8          0.884212  \n",
            "4             1.0           1.0          1.000000  \n",
            "5             1.0           1.0          0.921399  \n",
            "6             1.0           1.0          0.975051  \n",
            "Evaluation results saved to /content/evaluation_results.csv\n"
          ]
        }
      ]
    }
  ]
}